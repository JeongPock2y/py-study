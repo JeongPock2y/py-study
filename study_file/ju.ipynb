{
 "cells": [
  {
   "cell_type": "code",
   "execution_count": 5,
   "metadata": {},
   "outputs": [
    {
     "name": "stdout",
     "output_type": "stream",
     "text": [
      "------95.576-------\n",
      "------  95.576-----\n",
      "------   95.6-----\n"
     ]
    }
   ],
   "source": [
    "avg = 95.576\n",
    "\n",
    "print('------{}-------'.format(avg))\n",
    "print('------{:8}-----'.format(avg))\n",
    "print(f'------{avg:7.1f}-----')"
   ]
  },
  {
   "cell_type": "code",
   "execution_count": 10,
   "metadata": {},
   "outputs": [
    {
     "name": "stdout",
     "output_type": "stream",
     "text": [
      "answer rate is 96.7%입니다.\n",
      "answer rate is cc입니다.\n",
      "answer rate is {i}입니다.\n",
      "answer rate is {cc}입니다.\n"
     ]
    }
   ],
   "source": [
    "item = 96.678\n",
    "i = 'cc'\n",
    "print(f'answer rate is {item:.1f}%입니다.')\n",
    "print(f'answer rate is {i}입니다.')\n",
    "print(f'answer rate is {{i}}입니다.')\n",
    "print(f'answer rate is {{{i}}}입니다.')\n"
   ]
  },
  {
   "cell_type": "code",
   "execution_count": 2,
   "metadata": {},
   "outputs": [
    {
     "name": "stdout",
     "output_type": "stream",
     "text": [
      "ddd\n"
     ]
    }
   ],
   "source": [
    "print('ddd')\n"
   ]
  },
  {
   "cell_type": "code",
   "execution_count": 10,
   "metadata": {},
   "outputs": [
    {
     "name": "stdout",
     "output_type": "stream",
     "text": [
      "b는 :  [1, 2, 3]\n",
      "a는 : [1, 4, 3]\n",
      "a는 :  [1, 2, 3]\n"
     ]
    }
   ],
   "source": [
    "from copy import copy\n",
    "a = [1, 2, 3]\n",
    "b = a[:]\n",
    "print('b는 : ', b)\n",
    "a[1] = 4\n",
    "print('a는 :',a)\n",
    "\n",
    "a = b.copy()\n",
    "print('a는 : ', a)"
   ]
  },
  {
   "cell_type": "code",
   "execution_count": 12,
   "metadata": {},
   "outputs": [
    {
     "name": "stdout",
     "output_type": "stream",
     "text": [
      "택시를 타고가라\n"
     ]
    }
   ],
   "source": [
    "pocket = ['paper', 'handphone']\n",
    "card = True\n",
    "if 'money' in pocket:\n",
    "     print(\"택시를 타고가라\")\n",
    "elif card: \n",
    "         print(\"택시를 타고가라\")\n",
    "else:\n",
    "         print(\"걸어가라\")\n"
   ]
  },
  {
   "cell_type": "code",
   "execution_count": 15,
   "metadata": {},
   "outputs": [
    {
     "name": "stdout",
     "output_type": "stream",
     "text": [
      "--ip=127.0.0.1\n",
      "--stdin=9003\n",
      "--control=9001\n",
      "--hb=9000\n",
      "--Session.signature_scheme=\"hmac-sha256\"\n",
      "--Session.key=b\"db20b185-be6a-4850-af08-692ce4ae8c11\"\n",
      "--shell=9002\n",
      "--transport=\"tcp\"\n",
      "--iopub=9004\n",
      "--f=c:\\Users\\rosopop\\AppData\\Roaming\\jupyter\\runtime\\kernel-v2-13600vH57ZTB7qfyS.json\n"
     ]
    }
   ],
   "source": [
    "import sys\n",
    "\n",
    "args = sys.argv[1:]\n",
    "for i in args:\n",
    "    print(i)"
   ]
  },
  {
   "cell_type": "code",
   "execution_count": 16,
   "metadata": {},
   "outputs": [
    {
     "name": "stdout",
     "output_type": "stream",
     "text": [
      "--IP=127.0.0.1 --STDIN=9003 --CONTROL=9001 --HB=9000 --SESSION.SIGNATURE_SCHEME=\"HMAC-SHA256\" --SESSION.KEY=B\"DB20B185-BE6A-4850-AF08-692CE4AE8C11\" --SHELL=9002 --TRANSPORT=\"TCP\" --IOPUB=9004 --F=C:\\USERS\\ROSOPOP\\APPDATA\\ROAMING\\JUPYTER\\RUNTIME\\KERNEL-V2-13600VH57ZTB7QFYS.JSON "
     ]
    }
   ],
   "source": [
    "import sys\n",
    "args = sys.argv[1:]\n",
    "for i in args:\n",
    "    print(i.upper(), end=' ')"
   ]
  },
  {
   "cell_type": "code",
   "execution_count": 55,
   "metadata": {},
   "outputs": [
    {
     "name": "stdout",
     "output_type": "stream",
     "text": [
      "96\n"
     ]
    }
   ],
   "source": [
    "import newfile1 as n\n",
    "\n",
    "result = n.cal.add(1, 2)\n",
    "print(result)"
   ]
  },
  {
   "cell_type": "code",
   "execution_count": 58,
   "metadata": {},
   "outputs": [
    {
     "name": "stdout",
     "output_type": "stream",
     "text": [
      "imcome: 4000\n",
      "taxrate: 8.03\n",
      "tax: 32119.999999999996\n"
     ]
    }
   ],
   "source": [
    "income = 4000\n",
    "taxrate = 8.03\n",
    "tax = income * taxrate\n",
    "print(f'imcome: {income}')\n",
    "print(f'taxrate: {taxrate}')\n",
    "print(f'tax: {tax}')"
   ]
  }
 ],
 "metadata": {
  "kernelspec": {
   "display_name": "Python 3",
   "language": "python",
   "name": "python3"
  },
  "language_info": {
   "codemirror_mode": {
    "name": "ipython",
    "version": 3
   },
   "file_extension": ".py",
   "mimetype": "text/x-python",
   "name": "python",
   "nbconvert_exporter": "python",
   "pygments_lexer": "ipython3",
   "version": "3.11.0 (main, Oct 24 2022, 18:26:48) [MSC v.1933 64 bit (AMD64)]"
  },
  "orig_nbformat": 4,
  "vscode": {
   "interpreter": {
    "hash": "761267e259fd85f2d7c264902a3a695afb160ac5bfa8359e5d707f1d167cf20c"
   }
  }
 },
 "nbformat": 4,
 "nbformat_minor": 2
}
