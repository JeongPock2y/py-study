{
 "cells": [
  {
   "cell_type": "code",
   "execution_count": 2,
   "id": "13218e4e",
   "metadata": {},
   "outputs": [
    {
     "name": "stdout",
     "output_type": "stream",
     "text": [
      "['유재석', '서초구', '95', '90', '92', '95', '88']\n",
      "['박명수', '구로구', '78', '85', '82', '88', '90']\n",
      "['정준하', '구로구', '58', '52', '63', '71', '42']\n",
      "['정형돈', '종로구', '88', '90', '85', '95', '82']\n",
      "['노홍철', '강남구', '68', '78', '80', '82', '80']\n",
      "['하하', '강남구', '78', '80', '80', '78', '75']\n"
     ]
    }
   ],
   "source": [
    "import csv\n",
    "\n",
    "file = open('C:\\doit\\py-study\\csv\\class_1.csv','r')\n",
    "rows = csv.reader(file)\n",
    "for row in rows:\n",
    "    print(row)\n",
    "    "
   ]
  }
 ],
 "metadata": {
  "kernelspec": {
   "display_name": "Python 3 (ipykernel)",
   "language": "python",
   "name": "python3"
  },
  "language_info": {
   "codemirror_mode": {
    "name": "ipython",
    "version": 3
   },
   "file_extension": ".py",
   "mimetype": "text/x-python",
   "name": "python",
   "nbconvert_exporter": "python",
   "pygments_lexer": "ipython3",
   "version": "3.9.13"
  }
 },
 "nbformat": 4,
 "nbformat_minor": 5
}
