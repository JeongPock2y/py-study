{
 "cells": [
  {
   "cell_type": "code",
   "execution_count": 23,
   "id": "a82f38f6",
   "metadata": {},
   "outputs": [
    {
     "name": "stdout",
     "output_type": "stream",
     "text": [
      "['hong', '홍길동', 23, '경기']\n"
     ]
    }
   ],
   "source": [
    "import pandas\n",
    "\n",
    "#    index      0        1     2     3\n",
    "student1 = ['hong', '홍길동', 23, '경기']\n",
    "print(student1)"
   ]
  },
  {
   "cell_type": "code",
   "execution_count": 3,
   "id": "ba9a898a",
   "metadata": {},
   "outputs": [
    {
     "name": "stdout",
     "output_type": "stream",
     "text": [
      "0    hong\n",
      "1     홍길동\n",
      "2      23\n",
      "3      경기\n",
      "dtype: object\n"
     ]
    }
   ],
   "source": [
    "student2 = pandas.Series(student1)\n",
    "print(student2)"
   ]
  },
  {
   "cell_type": "code",
   "execution_count": 9,
   "id": "d3a668d0",
   "metadata": {},
   "outputs": [
    {
     "name": "stdout",
     "output_type": "stream",
     "text": [
      "<class 'list'>\n",
      "<class 'pandas.core.series.Series'>\n"
     ]
    },
    {
     "data": {
      "text/plain": [
       "'홍길동'"
      ]
     },
     "execution_count": 9,
     "metadata": {},
     "output_type": "execute_result"
    }
   ],
   "source": [
    "print( type(student1) )\n",
    "print( type(student2) )\n",
    "student2[1]"
   ]
  },
  {
   "cell_type": "code",
   "execution_count": 14,
   "id": "c2643c5b",
   "metadata": {},
   "outputs": [
    {
     "name": "stdout",
     "output_type": "stream",
     "text": [
      "{'id': 'hong', 'name': '홍길동', 'age': 23, 'addr': '경기'}\n",
      "---------------\n",
      "id      hong\n",
      "name     홍길동\n",
      "age       23\n",
      "addr      경기\n",
      "dtype: object\n"
     ]
    }
   ],
   "source": [
    "student3 = {'id':'hong', 'name':'홍길동', 'age':23, 'addr':'경기'}\n",
    "student4 = pandas.Series(student3)\n",
    "print(student3)\n",
    "print('-' * 15)\n",
    "print(student4)"
   ]
  },
  {
   "cell_type": "code",
   "execution_count": 34,
   "id": "55392358",
   "metadata": {},
   "outputs": [
    {
     "name": "stdout",
     "output_type": "stream",
     "text": [
      "0    hong\n",
      "1     홍길동\n",
      "2      23\n",
      "3      경기\n",
      "dtype: object\n",
      "\n",
      "아이디    hong\n",
      "이름      홍길동\n",
      "나이       23\n",
      "주소       경기\n",
      "dtype: object\n"
     ]
    }
   ],
   "source": [
    "#    index      0        1     2     3\n",
    "student1 = ['hong', '홍길동', 23, '경기']\n",
    "student2 = pandas.Series(student1)\n",
    "student3 = pandas.Series(student1, index = ['아이디', '이름', '나이', '주소'])\n",
    "print(student2)\n",
    "print()\n",
    "print(student3)"
   ]
  },
  {
   "cell_type": "code",
   "execution_count": 36,
   "id": "bd95f97f",
   "metadata": {},
   "outputs": [
    {
     "name": "stdout",
     "output_type": "stream",
     "text": [
      "홍길동\n",
      "23\n"
     ]
    }
   ],
   "source": [
    "print(student3['이름'])\n",
    "print(student3[2])"
   ]
  },
  {
   "cell_type": "code",
   "execution_count": 38,
   "id": "bd54a7c2",
   "metadata": {},
   "outputs": [
    {
     "name": "stdout",
     "output_type": "stream",
     "text": [
      "['hong', '홍길동', 'A', 80, 90, 67, 88, 90]\n",
      "\n",
      "id       hong\n",
      "name      홍길동\n",
      "class       A\n",
      "kor        80\n",
      "eng        90\n",
      "math       67\n",
      "sci        88\n",
      "his        90\n",
      "dtype: object\n"
     ]
    }
   ],
   "source": [
    "student1 = ['hong', '홍길동', 'A', 80, 90, 67, 88, 90]\n",
    "student2 = pandas.Series(student1, index = ['id', 'name', 'class', 'kor',\n",
    "                                            'eng', 'math', 'sci', 'his'])\n",
    "print(student1, end = '\\n\\n')\n",
    "print(student2)"
   ]
  },
  {
   "cell_type": "code",
   "execution_count": 42,
   "id": "a60d390d",
   "metadata": {},
   "outputs": [
    {
     "name": "stdout",
     "output_type": "stream",
     "text": [
      "홍길동\n",
      "80\n",
      "\n",
      "kor     80\n",
      "eng     90\n",
      "math    67\n",
      "sci     88\n",
      "dtype: object\n",
      "kor     80\n",
      "eng     90\n",
      "math    67\n",
      "dtype: object\n",
      "\n",
      "name     홍길동\n",
      "sci       88\n",
      "id      hong\n",
      "dtype: object\n",
      "name     홍길동\n",
      "sci       88\n",
      "id      hong\n",
      "dtype: object\n"
     ]
    }
   ],
   "source": [
    "# 인덱싱  : Series['index이름'], Series[index번호]\n",
    "# 슬라이싱: Series['이름1':'이름2'] - 이름1이상부터 이름2이하까지\n",
    "#           Series[번호1:번호2]     - 번호1이상부터 번호2미만까지\n",
    "# 여러개의 개별 인덱싱: 순서와 상관없이 임의의 위치에 index들을 조회할 수 있다.\n",
    "#           Series[['이름1', '이름2', '이름3']], Series[[번호1, 번호2, 번호3]]\n",
    "print(student2['name'])\n",
    "print(student2[3])\n",
    "print()\n",
    "print(student2['kor':'sci'])\n",
    "print(student2[3:6])\n",
    "print()\n",
    "print(student2[['name', 'sci', 'id']])\n",
    "print(student2[[1, 6, 0]])"
   ]
  },
  {
   "cell_type": "code",
   "execution_count": 46,
   "id": "6a629117",
   "metadata": {},
   "outputs": [
    {
     "data": {
      "text/html": [
       "<div>\n",
       "<style scoped>\n",
       "    .dataframe tbody tr th:only-of-type {\n",
       "        vertical-align: middle;\n",
       "    }\n",
       "\n",
       "    .dataframe tbody tr th {\n",
       "        vertical-align: top;\n",
       "    }\n",
       "\n",
       "    .dataframe thead th {\n",
       "        text-align: right;\n",
       "    }\n",
       "</style>\n",
       "<table border=\"1\" class=\"dataframe\">\n",
       "  <thead>\n",
       "    <tr style=\"text-align: right;\">\n",
       "      <th></th>\n",
       "      <th>name</th>\n",
       "      <th>kor</th>\n",
       "      <th>eng</th>\n",
       "      <th>math</th>\n",
       "    </tr>\n",
       "  </thead>\n",
       "  <tbody>\n",
       "    <tr>\n",
       "      <th>0</th>\n",
       "      <td>홍길동</td>\n",
       "      <td>80</td>\n",
       "      <td>85</td>\n",
       "      <td>82</td>\n",
       "    </tr>\n",
       "    <tr>\n",
       "      <th>1</th>\n",
       "      <td>황진이</td>\n",
       "      <td>90</td>\n",
       "      <td>93</td>\n",
       "      <td>91</td>\n",
       "    </tr>\n",
       "    <tr>\n",
       "      <th>2</th>\n",
       "      <td>멍멍이</td>\n",
       "      <td>76</td>\n",
       "      <td>80</td>\n",
       "      <td>77</td>\n",
       "    </tr>\n",
       "    <tr>\n",
       "      <th>3</th>\n",
       "      <td>야옹이</td>\n",
       "      <td>55</td>\n",
       "      <td>48</td>\n",
       "      <td>64</td>\n",
       "    </tr>\n",
       "  </tbody>\n",
       "</table>\n",
       "</div>"
      ],
      "text/plain": [
       "  name  kor  eng  math\n",
       "0  홍길동   80   85    82\n",
       "1  황진이   90   93    91\n",
       "2  멍멍이   76   80    77\n",
       "3  야옹이   55   48    64"
      ]
     },
     "execution_count": 46,
     "metadata": {},
     "output_type": "execute_result"
    }
   ],
   "source": [
    "# 사전 = {키1:목록1, 키2:목록2, 키3:목록3}\n",
    "# 키들을 column명(열이름)이 되고,\n",
    "# 각 목록의 원소들을 같은 열에 순서대로 나열되고,\n",
    "# 순서대로 정수 index를 부여받는다.\n",
    "dict_data = {'name':['홍길동', '황진이', '멍멍이', '야옹이'],\n",
    "             'kor' :[80, 90, 76, 55],\n",
    "             'eng' :[85, 93, 80, 48],\n",
    "             'math':[82, 91, 77, 64]}\n",
    "df = pandas.DataFrame(dict_data)\n",
    "df"
   ]
  },
  {
   "cell_type": "code",
   "execution_count": 51,
   "id": "8555b2c0",
   "metadata": {},
   "outputs": [
    {
     "data": {
      "text/html": [
       "<div>\n",
       "<style scoped>\n",
       "    .dataframe tbody tr th:only-of-type {\n",
       "        vertical-align: middle;\n",
       "    }\n",
       "\n",
       "    .dataframe tbody tr th {\n",
       "        vertical-align: top;\n",
       "    }\n",
       "\n",
       "    .dataframe thead th {\n",
       "        text-align: right;\n",
       "    }\n",
       "</style>\n",
       "<table border=\"1\" class=\"dataframe\">\n",
       "  <thead>\n",
       "    <tr style=\"text-align: right;\">\n",
       "      <th></th>\n",
       "      <th>name</th>\n",
       "      <th>kor</th>\n",
       "      <th>eng</th>\n",
       "      <th>math</th>\n",
       "    </tr>\n",
       "  </thead>\n",
       "  <tbody>\n",
       "    <tr>\n",
       "      <th>hong</th>\n",
       "      <td>홍길동</td>\n",
       "      <td>80</td>\n",
       "      <td>85</td>\n",
       "      <td>82</td>\n",
       "    </tr>\n",
       "    <tr>\n",
       "      <th>hwang</th>\n",
       "      <td>황진이</td>\n",
       "      <td>90</td>\n",
       "      <td>93</td>\n",
       "      <td>91</td>\n",
       "    </tr>\n",
       "    <tr>\n",
       "      <th>dog</th>\n",
       "      <td>멍멍이</td>\n",
       "      <td>76</td>\n",
       "      <td>80</td>\n",
       "      <td>77</td>\n",
       "    </tr>\n",
       "    <tr>\n",
       "      <th>cat</th>\n",
       "      <td>야옹이</td>\n",
       "      <td>55</td>\n",
       "      <td>48</td>\n",
       "      <td>62</td>\n",
       "    </tr>\n",
       "  </tbody>\n",
       "</table>\n",
       "</div>"
      ],
      "text/plain": [
       "      name  kor  eng  math\n",
       "hong   홍길동   80   85    82\n",
       "hwang  황진이   90   93    91\n",
       "dog    멍멍이   76   80    77\n",
       "cat    야옹이   55   48    62"
      ]
     },
     "execution_count": 51,
     "metadata": {},
     "output_type": "execute_result"
    }
   ],
   "source": [
    "# 2차원 목록은 원소들일 1차원 목록들이\n",
    "# 각 행(row)을 이루면서 DataFrame 객체가 생성된다.\n",
    "# 단, 원소를 참조할 수 있는 값을 index번호가 기본이고,\n",
    "# 행과 열 모두 index번호로 만들어진다.\n",
    "list_data = [['홍길동', 80, 85, 82],\n",
    "             ['황진이', 90, 93, 91],\n",
    "             ['멍멍이', 76, 80, 77],\n",
    "             ['야옹이', 55, 48, 62]]\n",
    "df = pandas.DataFrame(list_data, columns = ['name', 'kor', 'eng', 'math'],\n",
    "                      index = ['hong', 'hwang', 'dog', 'cat'])\n",
    "df"
   ]
  },
  {
   "cell_type": "code",
   "execution_count": 58,
   "id": "9653f122",
   "metadata": {},
   "outputs": [
    {
     "data": {
      "text/html": [
       "<div>\n",
       "<style scoped>\n",
       "    .dataframe tbody tr th:only-of-type {\n",
       "        vertical-align: middle;\n",
       "    }\n",
       "\n",
       "    .dataframe tbody tr th {\n",
       "        vertical-align: top;\n",
       "    }\n",
       "\n",
       "    .dataframe thead th {\n",
       "        text-align: right;\n",
       "    }\n",
       "</style>\n",
       "<table border=\"1\" class=\"dataframe\">\n",
       "  <thead>\n",
       "    <tr style=\"text-align: right;\">\n",
       "      <th></th>\n",
       "      <th>나이</th>\n",
       "      <th>성별</th>\n",
       "      <th>학교</th>\n",
       "    </tr>\n",
       "  </thead>\n",
       "  <tbody>\n",
       "    <tr>\n",
       "      <th>준서</th>\n",
       "      <td>15</td>\n",
       "      <td>남</td>\n",
       "      <td>덕영중</td>\n",
       "    </tr>\n",
       "    <tr>\n",
       "      <th>예은</th>\n",
       "      <td>17</td>\n",
       "      <td>여</td>\n",
       "      <td>수리중</td>\n",
       "    </tr>\n",
       "  </tbody>\n",
       "</table>\n",
       "</div>"
      ],
      "text/plain": [
       "    나이 성별   학교\n",
       "준서  15  남  덕영중\n",
       "예은  17  여  수리중"
      ]
     },
     "execution_count": 58,
     "metadata": {},
     "output_type": "execute_result"
    }
   ],
   "source": [
    "list_data = [[15, '남', '덕영중'], [17, '여', '수리중']]\n",
    "df = pandas.DataFrame(list_data, columns = ['나이', '성별', '학교'],\n",
    "                      index = ['준서', '예은'])\n",
    "df"
   ]
  },
  {
   "cell_type": "code",
   "execution_count": 67,
   "id": "16eb5ee8",
   "metadata": {},
   "outputs": [
    {
     "data": {
      "text/html": [
       "<div>\n",
       "<style scoped>\n",
       "    .dataframe tbody tr th:only-of-type {\n",
       "        vertical-align: middle;\n",
       "    }\n",
       "\n",
       "    .dataframe tbody tr th {\n",
       "        vertical-align: top;\n",
       "    }\n",
       "\n",
       "    .dataframe thead th {\n",
       "        text-align: right;\n",
       "    }\n",
       "</style>\n",
       "<table border=\"1\" class=\"dataframe\">\n",
       "  <thead>\n",
       "    <tr style=\"text-align: right;\">\n",
       "      <th></th>\n",
       "      <th>나이</th>\n",
       "      <th>성별</th>\n",
       "      <th>학교</th>\n",
       "    </tr>\n",
       "  </thead>\n",
       "  <tbody>\n",
       "    <tr>\n",
       "      <th>준서</th>\n",
       "      <td>15</td>\n",
       "      <td>남</td>\n",
       "      <td>덕영중</td>\n",
       "    </tr>\n",
       "    <tr>\n",
       "      <th>예은</th>\n",
       "      <td>17</td>\n",
       "      <td>여</td>\n",
       "      <td>수리중</td>\n",
       "    </tr>\n",
       "  </tbody>\n",
       "</table>\n",
       "</div>"
      ],
      "text/plain": [
       "    나이 성별   학교\n",
       "준서  15  남  덕영중\n",
       "예은  17  여  수리중"
      ]
     },
     "execution_count": 67,
     "metadata": {},
     "output_type": "execute_result"
    }
   ],
   "source": [
    "dict_data = {'나이':[15, 17], '성별':['남', '여'], '학교':['덕영중', '수리중']}\n",
    "df = pandas.DataFrame(dict_data, index = ['준서', '예은'])\n",
    "df"
   ]
  },
  {
   "cell_type": "code",
   "execution_count": 76,
   "id": "ad7d20ad",
   "metadata": {},
   "outputs": [
    {
     "name": "stdout",
     "output_type": "stream",
     "text": [
      "Index(['나이', '성별', '학교'], dtype='object')\n",
      "Index(['준서', '예은'], dtype='object')\n"
     ]
    },
    {
     "data": {
      "text/html": [
       "<div>\n",
       "<style scoped>\n",
       "    .dataframe tbody tr th:only-of-type {\n",
       "        vertical-align: middle;\n",
       "    }\n",
       "\n",
       "    .dataframe tbody tr th {\n",
       "        vertical-align: top;\n",
       "    }\n",
       "\n",
       "    .dataframe thead th {\n",
       "        text-align: right;\n",
       "    }\n",
       "</style>\n",
       "<table border=\"1\" class=\"dataframe\">\n",
       "  <thead>\n",
       "    <tr style=\"text-align: right;\">\n",
       "      <th></th>\n",
       "      <th>연령</th>\n",
       "      <th>남녀</th>\n",
       "      <th>출신</th>\n",
       "    </tr>\n",
       "  </thead>\n",
       "  <tbody>\n",
       "    <tr>\n",
       "      <th>학생1</th>\n",
       "      <td>15</td>\n",
       "      <td>남</td>\n",
       "      <td>덕영중</td>\n",
       "    </tr>\n",
       "    <tr>\n",
       "      <th>학생2</th>\n",
       "      <td>17</td>\n",
       "      <td>여</td>\n",
       "      <td>수리중</td>\n",
       "    </tr>\n",
       "  </tbody>\n",
       "</table>\n",
       "</div>"
      ],
      "text/plain": [
       "     연령 남녀   출신\n",
       "학생1  15  남  덕영중\n",
       "학생2  17  여  수리중"
      ]
     },
     "execution_count": 76,
     "metadata": {},
     "output_type": "execute_result"
    }
   ],
   "source": [
    "df2 = df.copy()\n",
    "print(df2.columns)\n",
    "print(df2.index)\n",
    "df2.columns = ['연령', '남녀', '출신']\n",
    "df2.index   = ['학생1', '학생2']\n",
    "df2"
   ]
  },
  {
   "cell_type": "code",
   "execution_count": 91,
   "id": "49f6bc7d",
   "metadata": {},
   "outputs": [
    {
     "name": "stdout",
     "output_type": "stream",
     "text": [
      "Index(['나이', '성별', '학교'], dtype='object')\n",
      "Index(['준서', '예은'], dtype='object')\n"
     ]
    },
    {
     "data": {
      "text/html": [
       "<div>\n",
       "<style scoped>\n",
       "    .dataframe tbody tr th:only-of-type {\n",
       "        vertical-align: middle;\n",
       "    }\n",
       "\n",
       "    .dataframe tbody tr th {\n",
       "        vertical-align: top;\n",
       "    }\n",
       "\n",
       "    .dataframe thead th {\n",
       "        text-align: right;\n",
       "    }\n",
       "</style>\n",
       "<table border=\"1\" class=\"dataframe\">\n",
       "  <thead>\n",
       "    <tr style=\"text-align: right;\">\n",
       "      <th></th>\n",
       "      <th>연령</th>\n",
       "      <th>성별</th>\n",
       "      <th>소속</th>\n",
       "    </tr>\n",
       "  </thead>\n",
       "  <tbody>\n",
       "    <tr>\n",
       "      <th>준서</th>\n",
       "      <td>15</td>\n",
       "      <td>남</td>\n",
       "      <td>덕영중</td>\n",
       "    </tr>\n",
       "    <tr>\n",
       "      <th>예은</th>\n",
       "      <td>17</td>\n",
       "      <td>여</td>\n",
       "      <td>수리중</td>\n",
       "    </tr>\n",
       "  </tbody>\n",
       "</table>\n",
       "</div>"
      ],
      "text/plain": [
       "    연령 성별   소속\n",
       "준서  15  남  덕영중\n",
       "예은  17  여  수리중"
      ]
     },
     "execution_count": 91,
     "metadata": {},
     "output_type": "execute_result"
    }
   ],
   "source": [
    "# df2.columns = ['컬럼명1', '컬럼명2', ...]          - 모든 컬럼명을 변경\n",
    "# df2.rename({'old명1':'new명1', 'old명2':'new명2'}) - 일부 컬럼명이나 인덱스명을 변경\n",
    "#             axis = 0 / 'index'    - 인덱스명 변경\n",
    "#             axis = 1 / 'columns'  - 컬럼명 변경\n",
    "df2 = df.copy()\n",
    "print(df2.columns)\n",
    "print(df2.index)\n",
    "df2.rename({'나이':'연령', '학교':'소속'}, axis = 1, inplace = True)\n",
    "df2.rename({'예은':'학생2'}, axis = 'index')\n",
    "df2"
   ]
  }
 ],
 "metadata": {
  "kernelspec": {
   "display_name": "Python 3 (ipykernel)",
   "language": "python",
   "name": "python3"
  },
  "language_info": {
   "codemirror_mode": {
    "name": "ipython",
    "version": 3
   },
   "file_extension": ".py",
   "mimetype": "text/x-python",
   "name": "python",
   "nbconvert_exporter": "python",
   "pygments_lexer": "ipython3",
   "version": "3.9.13"
  }
 },
 "nbformat": 4,
 "nbformat_minor": 5
}
