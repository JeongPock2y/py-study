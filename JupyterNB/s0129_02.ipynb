{
 "cells": [
  {
   "cell_type": "code",
   "execution_count": 7,
   "id": "33b94e1b",
   "metadata": {},
   "outputs": [
    {
     "data": {
      "text/plain": [
       "국어    150\n",
       "영어    129\n",
       "수학    138\n",
       "dtype: int64"
      ]
     },
     "execution_count": 7,
     "metadata": {},
     "output_type": "execute_result"
    }
   ],
   "source": [
    "import pandas\n",
    "\n",
    "student1 = pandas.Series({'국어':100, '영어':80, '수학':90})\n",
    "student1 = student1 + 50\n",
    "student1 += 1\n",
    "student1 -= [1, 2, 3]\n",
    "student1"
   ]
  },
  {
   "cell_type": "code",
   "execution_count": 16,
   "id": "73e0698f",
   "metadata": {},
   "outputs": [
    {
     "name": "stdout",
     "output_type": "stream",
     "text": [
      "국어    190.0\n",
      "수학    170.0\n",
      "영어    160.0\n",
      "음악      NaN\n",
      "체육      NaN\n",
      "dtype: float64\n",
      "\n",
      "국어    190.0\n",
      "수학    170.0\n",
      "영어    160.0\n",
      "음악     70.0\n",
      "체육     80.0\n",
      "dtype: float64\n"
     ]
    }
   ],
   "source": [
    "# 시리즈 + 값       : 시리즈의 모든 원소에 동일한 값으로 연산\n",
    "# 시리즈 + 목록     : 시리즈의 나열된 순서대로 목록의 원소들로 연산\n",
    "# 시리즈1 + 시리즈2 : 시리즈의 나열된 순서와 상관없이 같은 index끼리 연산\n",
    "#                     시리즈1과 시리즈2에 서로 없는 index끼리의 연산 결과는 NaN\n",
    "student1 = pandas.Series({'국어':100, '영어':80, '수학':90, '체육':80})\n",
    "student2 = pandas.Series({'수학': 80, '국어':90, '영어':80, '음악':70})\n",
    "print(student1 + student2)\n",
    "print()\n",
    "print(student1.add(student2, fill_value = 0))"
   ]
  },
  {
   "cell_type": "code",
   "execution_count": 43,
   "id": "0a24e36f",
   "metadata": {
    "scrolled": false
   },
   "outputs": [
    {
     "data": {
      "text/html": [
       "<div>\n",
       "<style scoped>\n",
       "    .dataframe tbody tr th:only-of-type {\n",
       "        vertical-align: middle;\n",
       "    }\n",
       "\n",
       "    .dataframe tbody tr th {\n",
       "        vertical-align: top;\n",
       "    }\n",
       "\n",
       "    .dataframe thead th {\n",
       "        text-align: right;\n",
       "    }\n",
       "</style>\n",
       "<table border=\"1\" class=\"dataframe\">\n",
       "  <thead>\n",
       "    <tr style=\"text-align: right;\">\n",
       "      <th></th>\n",
       "      <th>age</th>\n",
       "      <th>fare</th>\n",
       "      <th>new</th>\n",
       "    </tr>\n",
       "  </thead>\n",
       "  <tbody>\n",
       "    <tr>\n",
       "      <th>0</th>\n",
       "      <td>NaN</td>\n",
       "      <td>NaN</td>\n",
       "      <td>NaN</td>\n",
       "    </tr>\n",
       "    <tr>\n",
       "      <th>1</th>\n",
       "      <td>76.0</td>\n",
       "      <td>142.5666</td>\n",
       "      <td>NaN</td>\n",
       "    </tr>\n",
       "    <tr>\n",
       "      <th>2</th>\n",
       "      <td>52.0</td>\n",
       "      <td>15.8500</td>\n",
       "      <td>NaN</td>\n",
       "    </tr>\n",
       "    <tr>\n",
       "      <th>3</th>\n",
       "      <td>70.0</td>\n",
       "      <td>106.2000</td>\n",
       "      <td>NaN</td>\n",
       "    </tr>\n",
       "    <tr>\n",
       "      <th>4</th>\n",
       "      <td>70.0</td>\n",
       "      <td>16.1000</td>\n",
       "      <td>NaN</td>\n",
       "    </tr>\n",
       "    <tr>\n",
       "      <th>5</th>\n",
       "      <td>NaN</td>\n",
       "      <td>NaN</td>\n",
       "      <td>NaN</td>\n",
       "    </tr>\n",
       "  </tbody>\n",
       "</table>\n",
       "</div>"
      ],
      "text/plain": [
       "    age      fare  new\n",
       "0   NaN       NaN  NaN\n",
       "1  76.0  142.5666  NaN\n",
       "2  52.0   15.8500  NaN\n",
       "3  70.0  106.2000  NaN\n",
       "4  70.0   16.1000  NaN\n",
       "5   NaN       NaN  NaN"
      ]
     },
     "execution_count": 43,
     "metadata": {},
     "output_type": "execute_result"
    }
   ],
   "source": [
    "import seaborn\n",
    "\n",
    "titanic = seaborn.load_dataset('titanic')\n",
    "df1 = titanic[['age', 'fare']].head()\n",
    "df2 = titanic.loc[1:5, ['age', 'fare']]\n",
    "df2['new'] = [1, 2, 3, 4, 5]\n",
    "df1 + df2"
   ]
  },
  {
   "cell_type": "code",
   "execution_count": 45,
   "id": "12fe84cb",
   "metadata": {},
   "outputs": [
    {
     "data": {
      "text/html": [
       "<div>\n",
       "<style scoped>\n",
       "    .dataframe tbody tr th:only-of-type {\n",
       "        vertical-align: middle;\n",
       "    }\n",
       "\n",
       "    .dataframe tbody tr th {\n",
       "        vertical-align: top;\n",
       "    }\n",
       "\n",
       "    .dataframe thead th {\n",
       "        text-align: right;\n",
       "    }\n",
       "</style>\n",
       "<table border=\"1\" class=\"dataframe\">\n",
       "  <thead>\n",
       "    <tr style=\"text-align: right;\">\n",
       "      <th></th>\n",
       "      <th>age</th>\n",
       "      <th>fare</th>\n",
       "      <th>new</th>\n",
       "    </tr>\n",
       "  </thead>\n",
       "  <tbody>\n",
       "    <tr>\n",
       "      <th>0</th>\n",
       "      <td>22.0</td>\n",
       "      <td>7.2500</td>\n",
       "      <td>NaN</td>\n",
       "    </tr>\n",
       "    <tr>\n",
       "      <th>1</th>\n",
       "      <td>76.0</td>\n",
       "      <td>142.5666</td>\n",
       "      <td>1.0</td>\n",
       "    </tr>\n",
       "    <tr>\n",
       "      <th>2</th>\n",
       "      <td>52.0</td>\n",
       "      <td>15.8500</td>\n",
       "      <td>2.0</td>\n",
       "    </tr>\n",
       "    <tr>\n",
       "      <th>3</th>\n",
       "      <td>70.0</td>\n",
       "      <td>106.2000</td>\n",
       "      <td>3.0</td>\n",
       "    </tr>\n",
       "    <tr>\n",
       "      <th>4</th>\n",
       "      <td>70.0</td>\n",
       "      <td>16.1000</td>\n",
       "      <td>4.0</td>\n",
       "    </tr>\n",
       "    <tr>\n",
       "      <th>5</th>\n",
       "      <td>NaN</td>\n",
       "      <td>8.4583</td>\n",
       "      <td>5.0</td>\n",
       "    </tr>\n",
       "  </tbody>\n",
       "</table>\n",
       "</div>"
      ],
      "text/plain": [
       "    age      fare  new\n",
       "0  22.0    7.2500  NaN\n",
       "1  76.0  142.5666  1.0\n",
       "2  52.0   15.8500  2.0\n",
       "3  70.0  106.2000  3.0\n",
       "4  70.0   16.1000  4.0\n",
       "5   NaN    8.4583  5.0"
      ]
     },
     "execution_count": 45,
     "metadata": {},
     "output_type": "execute_result"
    }
   ],
   "source": [
    "df1.add(df2, fill_value = 0)"
   ]
  }
 ],
 "metadata": {
  "kernelspec": {
   "display_name": "Python 3 (ipykernel)",
   "language": "python",
   "name": "python3"
  },
  "language_info": {
   "codemirror_mode": {
    "name": "ipython",
    "version": 3
   },
   "file_extension": ".py",
   "mimetype": "text/x-python",
   "name": "python",
   "nbconvert_exporter": "python",
   "pygments_lexer": "ipython3",
   "version": "3.9.13"
  }
 },
 "nbformat": 4,
 "nbformat_minor": 5
}
