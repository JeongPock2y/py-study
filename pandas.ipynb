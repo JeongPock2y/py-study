{
 "cells": [
  {
   "cell_type": "code",
   "execution_count": 18,
   "metadata": {},
   "outputs": [
    {
     "name": "stdout",
     "output_type": "stream",
     "text": [
      "입장료는 5000원입니다.\n"
     ]
    }
   ],
   "source": [
    "\n",
    "age = int(input(\"몇살인가요? : \"))\n",
    "\n",
    "# if age > 20 :\n",
    "#     print(\"입장료는 4000원입니다.\")\n",
    "# else:\n",
    "#     print(\"입장료는 5000원입니다.\")\n",
    "    \n",
    "print(\"입장료는 4000원입니다.\" if age >20 else \"입장료는 5000원입니다.\")"
   ]
  },
  {
   "cell_type": "code",
   "execution_count": 19,
   "metadata": {},
   "outputs": [
    {
     "name": "stdout",
     "output_type": "stream",
     "text": [
      "입장료는 5000원입니다.\n"
     ]
    }
   ],
   "source": [
    "age = int(input(\"몇살인가요? : \"))\n",
    "\n",
    "if age >= 20 and age < 60 :\n",
    "    print(\"입장료는 4000원입니다.\")\n",
    "else:\n",
    "    print(\"입장료는 5000원입니다.\")"
   ]
  }
 ],
 "metadata": {
  "kernelspec": {
   "display_name": "Python 3",
   "language": "python",
   "name": "python3"
  },
  "language_info": {
   "codemirror_mode": {
    "name": "ipython",
    "version": 3
   },
   "file_extension": ".py",
   "mimetype": "text/x-python",
   "name": "python",
   "nbconvert_exporter": "python",
   "pygments_lexer": "ipython3",
   "version": "3.11.0"
  },
  "orig_nbformat": 4,
  "vscode": {
   "interpreter": {
    "hash": "761267e259fd85f2d7c264902a3a695afb160ac5bfa8359e5d707f1d167cf20c"
   }
  }
 },
 "nbformat": 4,
 "nbformat_minor": 2
}
