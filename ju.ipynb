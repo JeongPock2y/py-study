{
 "cells": [
  {
   "cell_type": "code",
   "execution_count": 5,
   "metadata": {},
   "outputs": [
    {
     "name": "stdout",
     "output_type": "stream",
     "text": [
      "------95.576-------\n",
      "------  95.576-----\n",
      "------   95.6-----\n"
     ]
    }
   ],
   "source": [
    "avg = 95.576\n",
    "\n",
    "print('------{}-------'.format(avg))\n",
    "print('------{:8}-----'.format(avg))\n",
    "print(f'------{avg:7.1f}-----')"
   ]
  },
  {
   "cell_type": "code",
   "execution_count": 10,
   "metadata": {},
   "outputs": [
    {
     "name": "stdout",
     "output_type": "stream",
     "text": [
      "answer rate is 96.7%입니다.\n",
      "answer rate is cc입니다.\n",
      "answer rate is {i}입니다.\n",
      "answer rate is {cc}입니다.\n"
     ]
    }
   ],
   "source": [
    "item = 96.678\n",
    "i = 'cc'\n",
    "print(f'answer rate is {item:.1f}%입니다.')\n",
    "print(f'answer rate is {i}입니다.')\n",
    "print(f'answer rate is {{i}}입니다.')\n",
    "print(f'answer rate is {{{i}}}입니다.')\n"
   ]
  },
  {
   "cell_type": "code",
   "execution_count": 2,
   "metadata": {},
   "outputs": [
    {
     "name": "stdout",
     "output_type": "stream",
     "text": [
      "ddd\n"
     ]
    }
   ],
   "source": [
    "print('ddd')\n"
   ]
  }
 ],
 "metadata": {
  "kernelspec": {
   "display_name": "Python 3",
   "language": "python",
   "name": "python3"
  },
  "language_info": {
   "codemirror_mode": {
    "name": "ipython",
    "version": 3
   },
   "file_extension": ".py",
   "mimetype": "text/x-python",
   "name": "python",
   "nbconvert_exporter": "python",
   "pygments_lexer": "ipython3",
   "version": "3.11.0"
  },
  "orig_nbformat": 4,
  "vscode": {
   "interpreter": {
    "hash": "761267e259fd85f2d7c264902a3a695afb160ac5bfa8359e5d707f1d167cf20c"
   }
  }
 },
 "nbformat": 4,
 "nbformat_minor": 2
}
