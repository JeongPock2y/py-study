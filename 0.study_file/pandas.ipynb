{
 "cells": [
  {
   "cell_type": "code",
   "execution_count": 18,
   "metadata": {},
   "outputs": [
    {
     "name": "stdout",
     "output_type": "stream",
     "text": [
      "입장료는 5000원입니다.\n"
     ]
    }
   ],
   "source": [
    "\n",
    "age = int(input(\"몇살인가요? : \"))\n",
    "\n",
    "# if age > 20 :\n",
    "#     print(\"입장료는 4000원입니다.\")\n",
    "# else:\n",
    "#     print(\"입장료는 5000원입니다.\")\n",
    "    \n",
    "print(\"입장료는 4000원입니다.\" if age >20 else \"입장료는 5000원입니다.\")"
   ]
  },
  {
   "cell_type": "code",
   "execution_count": 19,
   "metadata": {},
   "outputs": [
    {
     "name": "stdout",
     "output_type": "stream",
     "text": [
      "입장료는 5000원입니다.\n"
     ]
    }
   ],
   "source": [
    "age = int(input(\"몇살인가요? : \"))\n",
    "\n",
    "if age >= 20 and age < 60 :\n",
    "    print(\"입장료는 4000원입니다.\")\n",
    "else:\n",
    "    print(\"입장료는 5000원입니다.\")"
   ]
  },
  {
   "cell_type": "code",
   "execution_count": 4,
   "metadata": {},
   "outputs": [
    {
     "name": "stdout",
     "output_type": "stream",
     "text": [
      "Hello, 1world!\n",
      "Hello, 2world!\n",
      "Hello, 3world!\n",
      "Hello, 4world!\n",
      "Hello, 5world!\n",
      "Hello, 6world!\n",
      "Hello, 7world!\n",
      "Hello, 8world!\n",
      "Hello, 9world!\n",
      "Hello, 10world!\n",
      "Hello, 11world!\n"
     ]
    }
   ],
   "source": [
    "i = 0                     # 초기식\n",
    "while i < 11:            # while 조건식\n",
    "     i += 1\n",
    "     print(f'Hello, {i}world!')    # 반복할 코드\n",
    "        "
   ]
  },
  {
   "cell_type": "code",
   "execution_count": 3,
   "metadata": {},
   "outputs": [
    {
     "name": "stdout",
     "output_type": "stream",
     "text": [
      "['Fail', 'Pass', 'Pass', 'Pass', 'Pass']\n"
     ]
    }
   ],
   "source": [
    "A= [50,60,70,80,100]\n",
    "C = ['Pass'if a >= 60 else 'Fail' for a in A]\n",
    "print(C)"
   ]
  }
 ],
 "metadata": {
  "kernelspec": {
   "display_name": "Python 3",
   "language": "python",
   "name": "python3"
  },
  "language_info": {
   "codemirror_mode": {
    "name": "ipython",
    "version": 3
   },
   "file_extension": ".py",
   "mimetype": "text/x-python",
   "name": "python",
   "nbconvert_exporter": "python",
   "pygments_lexer": "ipython3",
   "version": "3.11.1 (tags/v3.11.1:a7a450f, Dec  6 2022, 19:58:39) [MSC v.1934 64 bit (AMD64)]"
  },
  "orig_nbformat": 4,
  "vscode": {
   "interpreter": {
    "hash": "35adbdcb426c048bae0434896ecfb1085d69e3c92f48a0527a080d2e28044e43"
   }
  }
 },
 "nbformat": 4,
 "nbformat_minor": 2
}
