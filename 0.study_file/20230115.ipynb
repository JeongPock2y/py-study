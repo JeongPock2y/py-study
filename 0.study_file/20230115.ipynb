{
 "cells": [
  {
   "cell_type": "code",
   "execution_count": null,
   "metadata": {},
   "outputs": [],
   "source": [
    "#file = open('stueents.csv','r')\n",
    "def csv2list(file):\n",
    "    lines = file.readlines()\n",
    "    rows =[]\n",
    "    for line in lines:\n",
    "        row=line.strip().split(',')\n",
    "        rows.append(rows)\n",
    "    print(rows)"
   ]
  },
  {
   "cell_type": "code",
   "execution_count": null,
   "metadata": {},
   "outputs": [],
   "source": [
    "file = open('student.csv','r')\n",
    "rows = csv2list(file)\n",
    "print(rows)"
   ]
  },
  {
   "cell_type": "code",
   "execution_count": 1,
   "metadata": {},
   "outputs": [
    {
     "name": "stdout",
     "output_type": "stream",
     "text": [
      "Welcome to Entity05\n"
     ]
    }
   ],
   "source": [
    "str1 = \"Welcome to Entity05\"\n",
    "after_strip = str1.strip()\n",
    "print(after_strip)\n",
    "#result : Welcome to Entity05"
   ]
  },
  {
   "cell_type": "code",
   "execution_count": null,
   "metadata": {},
   "outputs": [],
   "source": [
    "str1 = \"Welcome to Entity05\"\n",
    "after_strip = str1.strip()\n",
    "\n",
    "print(after_strip)"
   ]
  },
  {
   "cell_type": "code",
   "execution_count": null,
   "metadata": {},
   "outputs": [],
   "source": []
  }
 ],
 "metadata": {
  "kernelspec": {
   "display_name": "Python 3",
   "language": "python",
   "name": "python3"
  },
  "language_info": {
   "codemirror_mode": {
    "name": "ipython",
    "version": 3
   },
   "file_extension": ".py",
   "mimetype": "text/x-python",
   "name": "python",
   "nbconvert_exporter": "python",
   "pygments_lexer": "ipython3",
   "version": "3.11.1"
  },
  "orig_nbformat": 4,
  "vscode": {
   "interpreter": {
    "hash": "35adbdcb426c048bae0434896ecfb1085d69e3c92f48a0527a080d2e28044e43"
   }
  }
 },
 "nbformat": 4,
 "nbformat_minor": 2
}
