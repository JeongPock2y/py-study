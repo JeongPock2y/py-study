{
 "cells": [
  {
   "cell_type": "code",
   "execution_count": 3,
   "id": "ae435ccf",
   "metadata": {},
   "outputs": [
    {
     "name": "stdout",
     "output_type": "stream",
     "text": [
      "['유재석', '서초구', '95', '90', '92', '95', '88']\n",
      "['박명수', '구로구', '78', '85', '82', '88', '90']\n",
      "['정준하', '구로구', '58', '52', '63', '71', '42']\n",
      "['정형돈', '종로구', '88', '90', '85', '95', '82']\n",
      "['노홍철', '강남구', '68', '78', '80', '82', '80']\n",
      "['하하', '강남구', '78', '80', '80', '78', '75']\n"
     ]
    }
   ],
   "source": [
    "import csv\n",
    "\n",
    "file = open('C:\\doit\\py-study\\csv\\class_1.csv','r')\n",
    "rows = csv.reader(file)\n",
    "for row in rows:\n",
    "    print(row)\n",
    "    "
   ]
  },
  {
   "cell_type": "code",
   "execution_count": 15,
   "id": "ee0f3f2a",
   "metadata": {},
   "outputs": [],
   "source": [
    "import numpy\n",
    "import pandas\n",
    "\n",
    "\n"
   ]
  }
 ],
 "metadata": {
  "kernelspec": {
   "display_name": "Python 3",
   "language": "python",
   "name": "python3"
  },
  "language_info": {
   "codemirror_mode": {
    "name": "ipython",
    "version": 3
   },
   "file_extension": ".py",
   "mimetype": "text/x-python",
   "name": "python",
   "nbconvert_exporter": "python",
   "pygments_lexer": "ipython3",
   "version": "3.11.1 (tags/v3.11.1:a7a450f, Dec  6 2022, 19:58:39) [MSC v.1934 64 bit (AMD64)]"
  },
  "vscode": {
   "interpreter": {
    "hash": "35adbdcb426c048bae0434896ecfb1085d69e3c92f48a0527a080d2e28044e43"
   }
  }
 },
 "nbformat": 4,
 "nbformat_minor": 5
}
